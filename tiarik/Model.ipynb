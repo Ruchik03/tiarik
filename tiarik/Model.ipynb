{
 "cells": [
  {
   "cell_type": "code",
   "execution_count": 1,
   "id": "periodic-paintball",
   "metadata": {},
   "outputs": [],
   "source": [
    "# importing required libraries\n",
    "import nltk\n",
    "import numpy as np # linear algebra\n",
    "import pandas as pd # data processing, CSV file I/O (e.g. pd.read_csv)\n",
    "from sklearn.feature_extraction.text import CountVectorizer\n",
    "from nltk.tokenize import RegexpTokenizer, word_tokenize\n",
    "from nltk.stem import PorterStemmer\n",
    "from nltk.corpus import stopwords\n",
    "from sklearn.model_selection import train_test_split\n",
    "from sklearn.naive_bayes import MultinomialNB\n",
    "from sklearn import metrics\n",
    "from sklearn.metrics import precision_score\n",
    "from sklearn.metrics import recall_score\n",
    "from sklearn.metrics import f1_score\n",
    "from sklearn.metrics import confusion_matrix,classification_report"
   ]
  },
  {
   "cell_type": "code",
   "execution_count": 2,
   "id": "centered-xerox",
   "metadata": {},
   "outputs": [],
   "source": [
    "# read the dataset\n",
    "train = pd.read_csv(\"./train.txt\", delimiter=';', header=None, names=['sentence','label'])\n",
    "test = pd.read_csv(\"./test.txt\", delimiter=';', header=None, names=['sentence','label'])\n",
    "val = pd.read_csv(\"./val.txt\", delimiter=';', header=None, names=['sentence','label'])"
   ]
  },
  {
   "cell_type": "code",
   "execution_count": 14,
   "id": "sealed-qatar",
   "metadata": {},
   "outputs": [
    {
     "data": {
      "text/plain": [
       "pandas.core.frame.DataFrame"
      ]
     },
     "execution_count": 14,
     "metadata": {},
     "output_type": "execute_result"
    }
   ],
   "source": [
    "df_data = pd.concat([train, test,val])\n",
    "df_data"
   ]
  },
  {
   "cell_type": "code",
   "execution_count": 4,
   "id": "cardiac-discrimination",
   "metadata": {},
   "outputs": [
    {
     "data": {
      "text/plain": [
       "<bound method NDFrame.head of                                                 sentence    label\n",
       "0                                i didnt feel humiliated  sadness\n",
       "1      i can go from feeling so hopeless to so damned...  sadness\n",
       "2       im grabbing a minute to post i feel greedy wrong    anger\n",
       "3      i am ever feeling nostalgic about the fireplac...     love\n",
       "4                                   i am feeling grouchy    anger\n",
       "...                                                  ...      ...\n",
       "19995  im having ssa examination tomorrow in the morn...  sadness\n",
       "19996  i constantly worry about their fight against n...      joy\n",
       "19997  i feel its important to share this info for th...      joy\n",
       "19998  i truly feel that if you are passionate enough...      joy\n",
       "19999  i feel like i just wanna buy any cute make up ...      joy\n",
       "\n",
       "[20000 rows x 2 columns]>"
      ]
     },
     "execution_count": 4,
     "metadata": {},
     "output_type": "execute_result"
    }
   ],
   "source": [
    "df_data.to_csv (r'exportdata.txt', index=False)\n",
    "dt_data =  pd.read_csv(\"exportdata.txt\")\n",
    "dt_data.head"
   ]
  },
  {
   "cell_type": "code",
   "execution_count": 5,
   "id": "structured-castle",
   "metadata": {},
   "outputs": [],
   "source": [
    "token = RegexpTokenizer(r'[a-zA-Z0-9]+')\n",
    "cv = CountVectorizer(stop_words='english', ngram_range=(1,1), tokenizer = token.tokenize)\n",
    "text = cv.fit_transform(dt_data['sentence'])"
   ]
  },
  {
   "cell_type": "code",
   "execution_count": 6,
   "id": "asian-equation",
   "metadata": {},
   "outputs": [],
   "source": [
    "token = RegexpTokenizer(r'[a-zA-Z0-9]+')\n",
    "sw = set(stopwords.words('english'))\n",
    "ps = PorterStemmer()\n",
    "cv = CountVectorizer(stop_words='english', ngram_range=(1,1), tokenizer = token.tokenize)\n",
    "text = cv.fit_transform(dt_data['sentence'])"
   ]
  },
  {
   "cell_type": "code",
   "execution_count": 7,
   "id": "dominican-senator",
   "metadata": {},
   "outputs": [
    {
     "data": {
      "text/plain": [
       "((14000, 16798), (6000, 16798), (14000,), (6000,))"
      ]
     },
     "execution_count": 7,
     "metadata": {},
     "output_type": "execute_result"
    }
   ],
   "source": [
    "# train test split\n",
    "X_train, X_test, y_train, y_test = train_test_split(text,dt_data['label'], test_size=0.30, random_state=5)\n",
    "\n",
    "# get the shape of train and test split.\n",
    "X_train.shape, X_test.shape, y_train.shape, y_test.shape"
   ]
  },
  {
   "cell_type": "code",
   "execution_count": 8,
   "id": "activated-strip",
   "metadata": {},
   "outputs": [
    {
     "data": {
      "text/plain": [
       "MultinomialNB()"
      ]
     },
     "execution_count": 8,
     "metadata": {},
     "output_type": "execute_result"
    }
   ],
   "source": [
    "mnb = MultinomialNB()\n",
    "mnb.fit(X_train, y_train)"
   ]
  },
  {
   "cell_type": "code",
   "execution_count": 9,
   "id": "northern-signal",
   "metadata": {},
   "outputs": [],
   "source": [
    "predicted = mnb.predict(X_test)"
   ]
  },
  {
   "cell_type": "code",
   "execution_count": 10,
   "id": "according-building",
   "metadata": {},
   "outputs": [],
   "source": [
    "from sklearn import metrics\n",
    "from sklearn.metrics import precision_score\n",
    "from sklearn.metrics import recall_score\n",
    "from sklearn.metrics import f1_score\n",
    "from sklearn.metrics import confusion_matrix,classification_report"
   ]
  },
  {
   "cell_type": "code",
   "execution_count": 11,
   "id": "changed-burlington",
   "metadata": {},
   "outputs": [],
   "source": [
    "acc_score = metrics.accuracy_score(predicted,y_test)\n",
    "prec_score = precision_score(y_test,predicted, average='macro')\n",
    "recall = recall_score(y_test, predicted,average='macro')\n",
    "f1 = f1_score(y_test,predicted,average='macro')\n",
    "matrix = confusion_matrix(y_test,predicted)"
   ]
  },
  {
   "cell_type": "code",
   "execution_count": 12,
   "id": "existing-robinson",
   "metadata": {},
   "outputs": [
    {
     "name": "stdout",
     "output_type": "stream",
     "text": [
      "Accuracy: 77.53%\n",
      "Precision: 82.71%\n",
      "Recall: 58.59%\n",
      "F1 Score:  0.6191209661316305\n",
      "[[ 512   14   92    2  179    0]\n",
      " [  26  430   98    2  144    1]\n",
      " [  12   12 1890   23   95    0]\n",
      " [   7    5  241  162   74    0]\n",
      " [  13   11   83    2 1644    1]\n",
      " [   4   29   92    2   84   14]]\n"
     ]
    }
   ],
   "source": [
    "print(str('Accuracy: '+'{:04.2f}'.format(acc_score*100))+'%')\n",
    "print(str('Precision: '+'{:04.2f}'.format(prec_score*100))+'%')\n",
    "print(str('Recall: '+'{:04.2f}'.format(recall*100))+'%')\n",
    "print('F1 Score: ',f1)\n",
    "print(matrix)"
   ]
  },
  {
   "cell_type": "code",
   "execution_count": 17,
   "id": "armed-apparel",
   "metadata": {},
   "outputs": [],
   "source": [
    "@app.route('/predict', methods=['POST'])\n",
    "def predict():\n",
    "    result = mnb.predict(cv.transform(request.json['data']))\n",
    "    return result"
   ]
  }
 ],
 "metadata": {
  "kernelspec": {
   "display_name": "Python 3",
   "language": "python",
   "name": "python3"
  },
  "language_info": {
   "codemirror_mode": {
    "name": "ipython",
    "version": 3
   },
   "file_extension": ".py",
   "mimetype": "text/x-python",
   "name": "python",
   "nbconvert_exporter": "python",
   "pygments_lexer": "ipython3",
   "version": "3.9.1"
  }
 },
 "nbformat": 4,
 "nbformat_minor": 5
}
